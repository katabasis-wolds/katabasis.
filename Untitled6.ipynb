{
  "nbformat": 4,
  "nbformat_minor": 0,
  "metadata": {
    "colab": {
      "name": "Untitled6.ipynb",
      "provenance": [],
      "include_colab_link": true
    },
    "kernelspec": {
      "name": "python3",
      "display_name": "Python 3"
    }
  },
  "cells": [
    {
      "cell_type": "markdown",
      "metadata": {
        "id": "view-in-github",
        "colab_type": "text"
      },
      "source": [
        "<a href=\"https://colab.research.google.com/github/katabasis-wolds/katabasis./blob/main/Untitled6.ipynb\" target=\"_parent\"><img src=\"https://colab.research.google.com/assets/colab-badge.svg\" alt=\"Open In Colab\"/></a>"
      ]
    },
    {
      "cell_type": "code",
      "metadata": {
        "id": "haHtzMTeUAHf"
      },
      "source": [
        "class producto:\n",
        "  def __init__(self, codigo=\"\",descripcion=\"\",precio=0.0,stock=0):\n",
        "    self.codigo=codigo\n",
        "    self.descripcion=descripcion\n",
        "    self.precio=precio\n",
        "    self.stock=stock\n",
        "  #Metodo sin retorno\n",
        "  def asigna_precio(self):\n",
        "    print(\"debe asignar precio\")\n",
        "\n",
        "  #Metodo con parametro pero sin retorno\n",
        "  def asigna_descripcion(self, des: str):\n",
        "    self.descipcion = des\n",
        "    print(\"La nueva descripcion es:\",self.descripcion)\n",
        "\n",
        "  #Programa principal\n",
        "  if __name__ == \"__main__\":\n",
        "    prod1 = producto() #Instanciamos\n",
        "    prod1.asignar_descripcion(\"Lavadora 146kg\")\n",
        "    prod1.asignar_precio()"
      ],
      "execution_count": null,
      "outputs": []
    },
    {
      "cell_type": "code",
      "source": [],
      "metadata": {
        "id": "MFal5CLRuSou"
      },
      "execution_count": null,
      "outputs": []
    }
  ]
}