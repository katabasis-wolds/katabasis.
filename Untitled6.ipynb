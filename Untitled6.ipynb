{
  "nbformat": 4,
  "nbformat_minor": 0,
  "metadata": {
    "colab": {
      "name": "Untitled6.ipynb",
      "provenance": [],
      "include_colab_link": true
    },
    "kernelspec": {
      "name": "python3",
      "display_name": "Python 3"
    }
  },
  "cells": [
    {
      "cell_type": "markdown",
      "metadata": {
        "id": "view-in-github",
        "colab_type": "text"
      },
      "source": [
        "<a href=\"https://colab.research.google.com/github/katabasis-wolds/katabasis./blob/main/Untitled6.ipynb\" target=\"_parent\"><img src=\"https://colab.research.google.com/assets/colab-badge.svg\" alt=\"Open In Colab\"/></a>"
      ]
    },
    {
      "cell_type": "code",
      "metadata": {
        "id": "haHtzMTeUAHf",
        "colab": {
          "base_uri": "https://localhost:8080/"
        },
        "outputId": "7fac72d9-ad47-4884-d73f-2348c991066f"
      },
      "source": [
        "# 1. Importar la librería necesaria\n",
        "from scipy.optimize import linprog\n",
        "\n",
        "# ----------------------------------------------------------------------\n",
        "# 2. Definir los parámetros del Problema de Programación Lineal (PL)\n",
        "#\n",
        "# Objetivo: Minimizar Z = 4x1 + 3x2\n",
        "# Restricciones (convertidas a <=):\n",
        "# 1. -2x1 - 1x2 <= -100  (Jabones)\n",
        "# 2. -1x1 - 3x2 <= -120  (Champú)\n",
        "# ----------------------------------------------------------------------\n",
        "\n",
        "# Coeficientes de la Función Objetivo (Minimizar)\n",
        "# [coef_x1, coef_x2]\n",
        "c = [4, 3]\n",
        "\n",
        "# Matriz de coeficientes de las restricciones (A_ub)\n",
        "# Importante: Multiplicar por -1 para convertir (>=) a (<=)\n",
        "A = [\n",
        "    [-2, -1],  # Restricción 1 (Jabones: 2x1 + 1x2 >= 100)\n",
        "    [-1, -3]   # Restricción 2 (Champú: 1x1 + 3x2 >= 120)\n",
        "]\n",
        "\n",
        "# Lado derecho de las restricciones (b_ub)\n",
        "# Importante: Multiplicar por -1 para reflejar la conversión a \"<=\"\n",
        "b = [\n",
        "    -100,  # Lado derecho para Jabones\n",
        "    -120   # Lado derecho para Champú\n",
        "]\n",
        "\n",
        "# Límites de las variables: x1 >= 0, x2 >= 0\n",
        "# (0, None) significa que el límite inferior es 0 y no hay límite superior\n",
        "x1_bounds = (0, None)\n",
        "x2_bounds = (0, None)\n",
        "bounds = [x1_bounds, x2_bounds]\n",
        "\n",
        "# ----------------------------------------------------------------------\n",
        "# 3. Resolver el problema\n",
        "# ----------------------------------------------------------------------\n",
        "\n",
        "# NOTA DE CORRECCIÓN: Se usa 'revised simplex' para máxima compatibilidad\n",
        "# y evitar el error \"Unknown solver 'highs-simplex'\"\n",
        "resultado = linprog(c, A_ub=A, b_ub=b, bounds=bounds, method='revised simplex')\n",
        "\n",
        "\n",
        "# ----------------------------------------------------------------------\n",
        "# 4. Mostrar la Solución\n",
        "# ----------------------------------------------------------------------\n",
        "\n",
        "print(\"--- Resultado del Método Simplex (Hotel El Sol) ---\")\n",
        "if resultado.success:\n",
        "    print(f\"Estado de la solución: {resultado.message}\")\n",
        "    print(f\"\\nValor óptimo de Z (Costo Mínimo): ${resultado.fun:.2f}\")\n",
        "    print(\"\\nVariables de Decisión (Cantidad de Kits a Comprar):\")\n",
        "    print(f\"Kits Tipo A (x1): {resultado.x[0]:.2f} unidades\")\n",
        "    print(f\"Kits Tipo B (x2): {resultado.x[1]:.2f} unidades\")\n",
        "else:\n",
        "    print(f\"El problema no pudo ser resuelto. Estado: {resultado.message}\")"
      ],
      "execution_count": 4,
      "outputs": [
        {
          "output_type": "stream",
          "name": "stdout",
          "text": [
            "--- Resultado del Método Simplex (Hotel El Sol) ---\n",
            "Estado de la solución: Optimization terminated successfully.\n",
            "\n",
            "Valor óptimo de Z (Costo Mínimo): $228.00\n",
            "\n",
            "Variables de Decisión (Cantidad de Kits a Comprar):\n",
            "Kits Tipo A (x1): 36.00 unidades\n",
            "Kits Tipo B (x2): 28.00 unidades\n"
          ]
        },
        {
          "output_type": "stream",
          "name": "stderr",
          "text": [
            "/tmp/ipython-input-1378752590.py:43: DeprecationWarning: `method='revised simplex'` is deprecated and will be removed in SciPy 1.11.0. Please use one of the HiGHS solvers (e.g. `method='highs'`) in new code.\n",
            "  resultado = linprog(c, A_ub=A, b_ub=b, bounds=bounds, method='revised simplex')\n"
          ]
        }
      ]
    },
    {
      "cell_type": "code",
      "metadata": {
        "id": "tNF8X9SUUGDq"
      },
      "source": [
        "import matplotlib.pyplot as plt\n"
      ],
      "execution_count": null,
      "outputs": []
    },
    {
      "cell_type": "code",
      "metadata": {
        "id": "ejky4IbNUKRF",
        "outputId": "285a0a4c-808f-47cc-d74f-f5cf6e8d3b56",
        "colab": {
          "base_uri": "https://localhost:8080/",
          "height": 63
        }
      },
      "source": [
        "import tensorflow as tf"
      ],
      "execution_count": null,
      "outputs": [
        {
          "output_type": "display_data",
          "data": {
            "text/html": [
              "<p style=\"color: red;\">\n",
              "The default version of TensorFlow in Colab will soon switch to TensorFlow 2.x.<br>\n",
              "We recommend you <a href=\"https://www.tensorflow.org/guide/migrate\" target=\"_blank\">upgrade</a> now \n",
              "or ensure your notebook will continue to use TensorFlow 1.x via the <code>%tensorflow_version 1.x</code> magic:\n",
              "<a href=\"https://colab.research.google.com/notebooks/tensorflow_version.ipynb\" target=\"_blank\">more info</a>.</p>\n"
            ],
            "text/plain": [
              "<IPython.core.display.HTML object>"
            ]
          },
          "metadata": {
            "tags": []
          }
        }
      ]
    },
    {
      "cell_type": "code",
      "metadata": {
        "id": "mWJU96otUNY4"
      },
      "source": [
        "from tensorflow import keras"
      ],
      "execution_count": null,
      "outputs": []
    },
    {
      "cell_type": "code",
      "metadata": {
        "id": "1LgEi-6QU9m4"
      },
      "source": [
        "from tensorflow.keras import layers"
      ],
      "execution_count": null,
      "outputs": []
    },
    {
      "cell_type": "code",
      "metadata": {
        "id": "XpOkj7FrVCRH"
      },
      "source": [
        "import tensorflow_datasets as tfds"
      ],
      "execution_count": null,
      "outputs": []
    },
    {
      "cell_type": "code",
      "metadata": {
        "id": "n8IuRwROVlU0"
      },
      "source": [],
      "execution_count": null,
      "outputs": []
    }
  ]
}